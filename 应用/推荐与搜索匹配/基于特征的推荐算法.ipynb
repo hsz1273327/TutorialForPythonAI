{
 "cells": [
  {
   "cell_type": "markdown",
   "metadata": {},
   "source": [
    "# 基于特征的推荐算法\n",
    "\n",
    "以协同过滤为代表的基于已有用户-物品间关联信息的推荐算法往往比较难以使用到物品或用户自身的信息.而基于特征的推荐算法则不同,它并不把用户-物品间关联信息作为唯一的输入,而是将用户,物品都分解为特征,认为是这些特征导致了得分不同.一种简单的思路是使用特征工程 +Logistic Regression,这样可以很简单的给出一个分数,但这个简单的线性模型的前提是特征间没有关联,这是很难做到的.一种思路就是将特征进行组合,组合出的新特征也参与到训练中,这种思路就`FM(Factorization Machine)`和其衍生算法的基本思路\n"
   ]
  },
  {
   "cell_type": "markdown",
   "metadata": {},
   "source": [
    "## FM算法\n",
    "\n",
    "FM算法旨在解决稀疏数据下的特征组合问题,他可以适用于高度稀疏数据场景,同时具有线性的计算复杂度.它与其说是一个推荐算法,不如说是一个预测算法,即在一定条件下预测发生某事件的概率.\n",
    "\n",
    "比如\"用户是学生\",\"用户今天生日\",\"物品今天85折\"这样的信息都可以是影响用户购买行为特征.为了表述特征间的相关性，我们采用多项式核\n",
    "\n",
    "$$ y = w_0+\\sum\\limits_{i=1}^n {w_ix_i+\\sum\\limits_{i=1}^n\\sum\\limits_{j=i+1}^nw_{ij}x_ix_j} $$\n",
    "\n",
    "多项式核与线性模型相比多了特征组合的部分,特征组合部分的参数有$\\frac{n(n−1)}{2}$个,如果特征非常稀疏且维度很高的话时间复杂度将大大增加.\n",
    "\n",
    "为了对抗数据的稀疏性,对每一个特征引入辅助向量`lantent vector` $V_i=[v_{i1},v_{i2},...,v_{ik}]^T$, 模型修改如下\n",
    "\n",
    "$$ y = w_0+\\sum\\limits_{i=1}^n {w_ix_i+\\sum\\limits_{i=1}^n\\sum\\limits_{j=i+1}^n<V_i,V_j>x_ix_j} $$\n",
    "\n",
    "其中k是超参数"
   ]
  },
  {
   "cell_type": "code",
   "execution_count": null,
   "metadata": {},
   "outputs": [],
   "source": []
  }
 ],
 "metadata": {
  "kernelspec": {
   "display_name": "Python 3",
   "language": "python",
   "name": "python3"
  },
  "language_info": {
   "codemirror_mode": {
    "name": "ipython",
    "version": 3
   },
   "file_extension": ".py",
   "mimetype": "text/x-python",
   "name": "python",
   "nbconvert_exporter": "python",
   "pygments_lexer": "ipython3",
   "version": "3.7.2"
  }
 },
 "nbformat": 4,
 "nbformat_minor": 2
}
